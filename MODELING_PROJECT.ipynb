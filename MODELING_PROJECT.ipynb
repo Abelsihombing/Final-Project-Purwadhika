{
 "cells": [
  {
   "cell_type": "code",
   "execution_count": 1,
   "metadata": {},
   "outputs": [],
   "source": [
    "import pandas as pd\n",
    "import seaborn as sns\n",
    "import numpy as np\n",
    "import matplotlib.pyplot as plt\n",
    "\n",
    "%matplotlib inline"
   ]
  },
  {
   "cell_type": "code",
   "execution_count": 2,
   "metadata": {},
   "outputs": [
    {
     "name": "stdout",
     "output_type": "stream",
     "text": [
      "<class 'pandas.core.frame.DataFrame'>\n",
      "RangeIndex: 32686 entries, 0 to 32685\n",
      "Data columns (total 11 columns):\n",
      "Radiation                 32686 non-null float64\n",
      "Temperature               32686 non-null int64\n",
      "Pressure                  32686 non-null float64\n",
      "Humidity                  32686 non-null int64\n",
      "WindDirection(Degrees)    32686 non-null float64\n",
      "Speed                     32686 non-null float64\n",
      "Total_TimeSun             32686 non-null int64\n",
      "Month                     32686 non-null int64\n",
      "Days                      32686 non-null int64\n",
      "hour                      32686 non-null int64\n",
      "Date_time                 32686 non-null object\n",
      "dtypes: float64(4), int64(6), object(1)\n",
      "memory usage: 2.7+ MB\n",
      "None\n"
     ]
    },
    {
     "data": {
      "text/html": [
       "<div>\n",
       "<style scoped>\n",
       "    .dataframe tbody tr th:only-of-type {\n",
       "        vertical-align: middle;\n",
       "    }\n",
       "\n",
       "    .dataframe tbody tr th {\n",
       "        vertical-align: top;\n",
       "    }\n",
       "\n",
       "    .dataframe thead th {\n",
       "        text-align: right;\n",
       "    }\n",
       "</style>\n",
       "<table border=\"1\" class=\"dataframe\">\n",
       "  <thead>\n",
       "    <tr style=\"text-align: right;\">\n",
       "      <th></th>\n",
       "      <th>Radiation</th>\n",
       "      <th>Temperature</th>\n",
       "      <th>Pressure</th>\n",
       "      <th>Humidity</th>\n",
       "      <th>WindDirection(Degrees)</th>\n",
       "      <th>Speed</th>\n",
       "      <th>Total_TimeSun</th>\n",
       "      <th>Month</th>\n",
       "      <th>Days</th>\n",
       "      <th>hour</th>\n",
       "      <th>Date_time</th>\n",
       "    </tr>\n",
       "  </thead>\n",
       "  <tbody>\n",
       "    <tr>\n",
       "      <td>0</td>\n",
       "      <td>1.21</td>\n",
       "      <td>48</td>\n",
       "      <td>30.46</td>\n",
       "      <td>59</td>\n",
       "      <td>177.39</td>\n",
       "      <td>5.62</td>\n",
       "      <td>12</td>\n",
       "      <td>9</td>\n",
       "      <td>29</td>\n",
       "      <td>23</td>\n",
       "      <td>2016-09-29</td>\n",
       "    </tr>\n",
       "    <tr>\n",
       "      <td>1</td>\n",
       "      <td>1.21</td>\n",
       "      <td>48</td>\n",
       "      <td>30.46</td>\n",
       "      <td>58</td>\n",
       "      <td>176.78</td>\n",
       "      <td>3.37</td>\n",
       "      <td>12</td>\n",
       "      <td>9</td>\n",
       "      <td>29</td>\n",
       "      <td>23</td>\n",
       "      <td>2016-09-29</td>\n",
       "    </tr>\n",
       "    <tr>\n",
       "      <td>2</td>\n",
       "      <td>1.23</td>\n",
       "      <td>48</td>\n",
       "      <td>30.46</td>\n",
       "      <td>57</td>\n",
       "      <td>158.75</td>\n",
       "      <td>3.37</td>\n",
       "      <td>12</td>\n",
       "      <td>9</td>\n",
       "      <td>29</td>\n",
       "      <td>23</td>\n",
       "      <td>2016-09-29</td>\n",
       "    </tr>\n",
       "    <tr>\n",
       "      <td>3</td>\n",
       "      <td>1.21</td>\n",
       "      <td>48</td>\n",
       "      <td>30.46</td>\n",
       "      <td>60</td>\n",
       "      <td>137.71</td>\n",
       "      <td>3.37</td>\n",
       "      <td>12</td>\n",
       "      <td>9</td>\n",
       "      <td>29</td>\n",
       "      <td>23</td>\n",
       "      <td>2016-09-29</td>\n",
       "    </tr>\n",
       "    <tr>\n",
       "      <td>4</td>\n",
       "      <td>1.17</td>\n",
       "      <td>48</td>\n",
       "      <td>30.46</td>\n",
       "      <td>62</td>\n",
       "      <td>104.95</td>\n",
       "      <td>5.62</td>\n",
       "      <td>12</td>\n",
       "      <td>9</td>\n",
       "      <td>29</td>\n",
       "      <td>23</td>\n",
       "      <td>2016-09-29</td>\n",
       "    </tr>\n",
       "  </tbody>\n",
       "</table>\n",
       "</div>"
      ],
      "text/plain": [
       "   Radiation  Temperature  Pressure  Humidity  WindDirection(Degrees)  Speed  \\\n",
       "0       1.21           48     30.46        59                  177.39   5.62   \n",
       "1       1.21           48     30.46        58                  176.78   3.37   \n",
       "2       1.23           48     30.46        57                  158.75   3.37   \n",
       "3       1.21           48     30.46        60                  137.71   3.37   \n",
       "4       1.17           48     30.46        62                  104.95   5.62   \n",
       "\n",
       "   Total_TimeSun  Month  Days  hour   Date_time  \n",
       "0             12      9    29    23  2016-09-29  \n",
       "1             12      9    29    23  2016-09-29  \n",
       "2             12      9    29    23  2016-09-29  \n",
       "3             12      9    29    23  2016-09-29  \n",
       "4             12      9    29    23  2016-09-29  "
      ]
     },
     "metadata": {},
     "output_type": "display_data"
    }
   ],
   "source": [
    "df = pd.read_csv('clean_data_solar.csv')\n",
    "print(df.info())\n",
    "display(df.head())"
   ]
  },
  {
   "cell_type": "code",
   "execution_count": 3,
   "metadata": {},
   "outputs": [],
   "source": [
    "from sklearn.linear_model import LinearRegression,Lasso,Ridge,LogisticRegression\n",
    "from sklearn.tree import DecisionTreeRegressor\n",
    "from sklearn.ensemble import RandomForestRegressor,GradientBoostingRegressor\n",
    "from sklearn.metrics import mean_absolute_error,mean_squared_error,r2_score\n",
    "from sklearn.model_selection import cross_val_score,train_test_split\n",
    "from sklearn import metrics"
   ]
  },
  {
   "cell_type": "code",
   "execution_count": 5,
   "metadata": {},
   "outputs": [],
   "source": [
    "df1 = df.drop(['Date_time'],axis=1)\n",
    "X = df1.drop('Radiation',axis=1)\n",
    "y = df1['Radiation']"
   ]
  },
  {
   "cell_type": "code",
   "execution_count": 6,
   "metadata": {},
   "outputs": [],
   "source": [
    "X_train, X_test, y_train, y_test = train_test_split(X, y, test_size=0.3, random_state=101)"
   ]
  },
  {
   "cell_type": "code",
   "execution_count": 7,
   "metadata": {},
   "outputs": [
    {
     "name": "stdout",
     "output_type": "stream",
     "text": [
      "MAE: 146.93272984181922\n",
      "MSE: 37397.607797517\n",
      "RMSE: 193.38461106695382\n",
      "R2 Score 0.6296742910380527\n"
     ]
    },
    {
     "data": {
      "image/png": "[encoded data removed]",
      "text/plain": [
       "<Figure size 432x288 with 1 Axes>"
      ]
     },
     "metadata": {
      "needs_background": "light"
     },
     "output_type": "display_data"
    }
   ],
   "source": [
    "rim = Ridge(alpha=0.1)\n",
    "rim.fit(X_train,y_train)\n",
    "prediction_ridge = rim.predict(X_test)\n",
    "plt.scatter(y_test, prediction_ridge)\n",
    "print('MAE:' , metrics.mean_absolute_error(y_test, prediction_ridge))\n",
    "print('MSE:', metrics.mean_squared_error(y_test, prediction_ridge))\n",
    "print('RMSE:', np.sqrt(metrics.mean_squared_error(y_test, prediction_ridge)))\n",
    "print('R2 Score', metrics.r2_score(y_test, prediction_ridge))"
   ]
  },
  {
   "cell_type": "code",
   "execution_count": 8,
   "metadata": {},
   "outputs": [
    {
     "data": {
      "text/plain": [
       "array([  23.55979989, -154.8708912 ,  497.59517538, ...,   28.46183686,\n",
       "        186.69743421,   36.66604047])"
      ]
     },
     "execution_count": 8,
     "metadata": {},
     "output_type": "execute_result"
    }
   ],
   "source": [
    "prediction_ridge"
   ]
  },
  {
   "cell_type": "code",
   "execution_count": 9,
   "metadata": {},
   "outputs": [
    {
     "name": "stdout",
     "output_type": "stream",
     "text": [
      "MAE: 146.98245386146576\n",
      "MSE: 37396.77341721919\n",
      "RMSE: 193.38245374702223\n",
      "R2 Score 0.6296825533974261\n"
     ]
    },
    {
     "data": {
      "image/png": "[encoded data removed]",
      "text/plain": [
       "<Figure size 432x288 with 1 Axes>"
      ]
     },
     "metadata": {
      "needs_background": "light"
     },
     "output_type": "display_data"
    }
   ],
   "source": [
    "llm = Lasso(alpha = 0.1)\n",
    "llm.fit(X_train,y_train)\n",
    "prediction_lasso = llm.predict(X_test)\n",
    "plt.scatter(y_test, prediction_lasso)\n",
    "print('MAE:' , metrics.mean_absolute_error(y_test, prediction_lasso))\n",
    "print('MSE:', metrics.mean_squared_error(y_test, prediction_lasso))\n",
    "print('RMSE:', np.sqrt(metrics.mean_squared_error(y_test, prediction_lasso)))\n",
    "print('R2 Score', metrics.r2_score(y_test, prediction_lasso))"
   ]
  },
  {
   "cell_type": "code",
   "execution_count": 10,
   "metadata": {},
   "outputs": [
    {
     "data": {
      "text/plain": [
       "array([  21.11970816, -154.45830977,  500.47123865, ...,   30.12056839,\n",
       "        186.55431032,   36.31520953])"
      ]
     },
     "execution_count": 10,
     "metadata": {},
     "output_type": "execute_result"
    }
   ],
   "source": [
    "prediction_lasso"
   ]
  },
  {
   "cell_type": "code",
   "execution_count": 11,
   "metadata": {},
   "outputs": [
    {
     "data": {
      "image/png": "[encoded data removed]",
      "text/plain": [
       "<Figure size 432x288 with 1 Axes>"
      ]
     },
     "metadata": {
      "needs_background": "light"
     },
     "output_type": "display_data"
    }
   ],
   "source": [
    "_ = plt.plot(range(len(X_train.columns)), llm.coef_)\n",
    "_ = plt.xticks(range(len(X_train.columns)), X_train.columns, rotation = 90)\n",
    "_ = plt.ylabel('coefficients')\n",
    "plt.show()"
   ]
  },
  {
   "cell_type": "code",
   "execution_count": 12,
   "metadata": {},
   "outputs": [
    {
     "name": "stderr",
     "output_type": "stream",
     "text": [
      "C:\\Users\\Sabam-Mr\\Anaconda3\\lib\\site-packages\\numpy\\core\\fromnumeric.py:2542: FutureWarning: Method .ptp is deprecated and will be removed in a future version. Use numpy.ptp instead.\n",
      "  return ptp(axis=axis, out=out, **kwargs)\n"
     ]
    },
    {
     "data": {
      "text/html": [
       "<table class=\"simpletable\">\n",
       "<caption>OLS Regression Results</caption>\n",
       "<tr>\n",
       "  <th>Dep. Variable:</th>        <td>Radiation</td>    <th>  R-squared:         </th>  <td>   0.626</td>  \n",
       "</tr>\n",
       "<tr>\n",
       "  <th>Model:</th>                   <td>OLS</td>       <th>  Adj. R-squared:    </th>  <td>   0.626</td>  \n",
       "</tr>\n",
       "<tr>\n",
       "  <th>Method:</th>             <td>Least Squares</td>  <th>  F-statistic:       </th>  <td>   4248.</td>  \n",
       "</tr>\n",
       "<tr>\n",
       "  <th>Date:</th>             <td>Sun, 22 Mar 2020</td> <th>  Prob (F-statistic):</th>   <td>  0.00</td>   \n",
       "</tr>\n",
       "<tr>\n",
       "  <th>Time:</th>                 <td>19:07:01</td>     <th>  Log-Likelihood:    </th> <td>-1.5285e+05</td>\n",
       "</tr>\n",
       "<tr>\n",
       "  <th>No. Observations:</th>      <td> 22880</td>      <th>  AIC:               </th>  <td>3.057e+05</td> \n",
       "</tr>\n",
       "<tr>\n",
       "  <th>Df Residuals:</th>          <td> 22870</td>      <th>  BIC:               </th>  <td>3.058e+05</td> \n",
       "</tr>\n",
       "<tr>\n",
       "  <th>Df Model:</th>              <td>     9</td>      <th>                     </th>      <td> </td>     \n",
       "</tr>\n",
       "<tr>\n",
       "  <th>Covariance Type:</th>      <td>nonrobust</td>    <th>                     </th>      <td> </td>     \n",
       "</tr>\n",
       "</table>\n",
       "<table class=\"simpletable\">\n",
       "<tr>\n",
       "             <td></td>               <th>coef</th>     <th>std err</th>      <th>t</th>      <th>P>|t|</th>  <th>[0.025</th>    <th>0.975]</th>  \n",
       "</tr>\n",
       "<tr>\n",
       "  <th>const</th>                  <td>  1.19e+04</td> <td>  843.785</td> <td>   14.098</td> <td> 0.000</td> <td> 1.02e+04</td> <td> 1.35e+04</td>\n",
       "</tr>\n",
       "<tr>\n",
       "  <th>Temperature</th>            <td>   44.3189</td> <td>    0.251</td> <td>  176.425</td> <td> 0.000</td> <td>   43.827</td> <td>   44.811</td>\n",
       "</tr>\n",
       "<tr>\n",
       "  <th>Pressure</th>               <td> -454.5706</td> <td>   27.057</td> <td>  -16.801</td> <td> 0.000</td> <td> -507.604</td> <td> -401.537</td>\n",
       "</tr>\n",
       "<tr>\n",
       "  <th>Humidity</th>               <td>    0.5442</td> <td>    0.056</td> <td>    9.722</td> <td> 0.000</td> <td>    0.434</td> <td>    0.654</td>\n",
       "</tr>\n",
       "<tr>\n",
       "  <th>WindDirection(Degrees)</th> <td>   -0.2270</td> <td>    0.017</td> <td>  -13.749</td> <td> 0.000</td> <td>   -0.259</td> <td>   -0.195</td>\n",
       "</tr>\n",
       "<tr>\n",
       "  <th>Speed</th>                  <td>    5.4241</td> <td>    0.383</td> <td>   14.160</td> <td> 0.000</td> <td>    4.673</td> <td>    6.175</td>\n",
       "</tr>\n",
       "<tr>\n",
       "  <th>Total_TimeSun</th>          <td>  -47.0037</td> <td>    4.835</td> <td>   -9.721</td> <td> 0.000</td> <td>  -56.481</td> <td>  -37.526</td>\n",
       "</tr>\n",
       "<tr>\n",
       "  <th>Month</th>                  <td>   37.0471</td> <td>    2.141</td> <td>   17.305</td> <td> 0.000</td> <td>   32.851</td> <td>   41.243</td>\n",
       "</tr>\n",
       "<tr>\n",
       "  <th>Days</th>                   <td>    3.9853</td> <td>    0.161</td> <td>   24.756</td> <td> 0.000</td> <td>    3.670</td> <td>    4.301</td>\n",
       "</tr>\n",
       "<tr>\n",
       "  <th>hour</th>                   <td>   -7.4964</td> <td>    0.192</td> <td>  -39.063</td> <td> 0.000</td> <td>   -7.873</td> <td>   -7.120</td>\n",
       "</tr>\n",
       "</table>\n",
       "<table class=\"simpletable\">\n",
       "<tr>\n",
       "  <th>Omnibus:</th>       <td>2120.612</td> <th>  Durbin-Watson:     </th> <td>   1.987</td>\n",
       "</tr>\n",
       "<tr>\n",
       "  <th>Prob(Omnibus):</th>  <td> 0.000</td>  <th>  Jarque-Bera (JB):  </th> <td>3451.230</td>\n",
       "</tr>\n",
       "<tr>\n",
       "  <th>Skew:</th>           <td> 0.684</td>  <th>  Prob(JB):          </th> <td>    0.00</td>\n",
       "</tr>\n",
       "<tr>\n",
       "  <th>Kurtosis:</th>       <td> 4.323</td>  <th>  Cond. No.          </th> <td>1.24e+05</td>\n",
       "</tr>\n",
       "</table><br/><br/>Warnings:<br/>[1] Standard Errors assume that the covariance matrix of the errors is correctly specified.<br/>[2] The condition number is large, 1.24e+05. This might indicate that there are<br/>strong multicollinearity or other numerical problems."
      ],
      "text/plain": [
       "<class 'statsmodels.iolib.summary.Summary'>\n",
       "\"\"\"\n",
       "                            OLS Regression Results                            \n",
       "==============================================================================\n",
       "Dep. Variable:              Radiation   R-squared:                       0.626\n",
       "Model:                            OLS   Adj. R-squared:                  0.626\n",
       "Method:                 Least Squares   F-statistic:                     4248.\n",
       "Date:                Sun, 22 Mar 2020   Prob (F-statistic):               0.00\n",
       "Time:                        19:07:01   Log-Likelihood:            -1.5285e+05\n",
       "No. Observations:               22880   AIC:                         3.057e+05\n",
       "Df Residuals:                   22870   BIC:                         3.058e+05\n",
       "Df Model:                           9                                         \n",
       "Covariance Type:            nonrobust                                         \n",
       "==========================================================================================\n",
       "                             coef    std err          t      P>|t|      [0.025      0.975]\n",
       "------------------------------------------------------------------------------------------\n",
       "const                    1.19e+04    843.785     14.098      0.000    1.02e+04    1.35e+04\n",
       "Temperature               44.3189      0.251    176.425      0.000      43.827      44.811\n",
       "Pressure                -454.5706     27.057    -16.801      0.000    -507.604    -401.537\n",
       "Humidity                   0.5442      0.056      9.722      0.000       0.434       0.654\n",
       "WindDirection(Degrees)    -0.2270      0.017    -13.749      0.000      -0.259      -0.195\n",
       "Speed                      5.4241      0.383     14.160      0.000       4.673       6.175\n",
       "Total_TimeSun            -47.0037      4.835     -9.721      0.000     -56.481     -37.526\n",
       "Month                     37.0471      2.141     17.305      0.000      32.851      41.243\n",
       "Days                       3.9853      0.161     24.756      0.000       3.670       4.301\n",
       "hour                      -7.4964      0.192    -39.063      0.000      -7.873      -7.120\n",
       "==============================================================================\n",
       "Omnibus:                     2120.612   Durbin-Watson:                   1.987\n",
       "Prob(Omnibus):                  0.000   Jarque-Bera (JB):             3451.230\n",
       "Skew:                           0.684   Prob(JB):                         0.00\n",
       "Kurtosis:                       4.323   Cond. No.                     1.24e+05\n",
       "==============================================================================\n",
       "\n",
       "Warnings:\n",
       "[1] Standard Errors assume that the covariance matrix of the errors is correctly specified.\n",
       "[2] The condition number is large, 1.24e+05. This might indicate that there are\n",
       "strong multicollinearity or other numerical problems.\n",
       "\"\"\""
      ]
     },
     "execution_count": 12,
     "metadata": {},
     "output_type": "execute_result"
    }
   ],
   "source": [
    "import statsmodels.api as sm\n",
    "from statsmodels.api import OLS\n",
    "sm_lm = OLS(y_train, sm.add_constant(X_train))\n",
    "result = sm_lm.fit()\n",
    "result.summary()"
   ]
  },
  {
   "cell_type": "code",
   "execution_count": 13,
   "metadata": {},
   "outputs": [
    {
     "data": {
      "text/plain": [
       "Temperature                102.201187\n",
       "Pressure                  3160.809207\n",
       "Humidity                    11.652856\n",
       "WindDirection(Degrees)       4.506307\n",
       "Speed                        4.585983\n",
       "Total_TimeSun             1727.617664\n",
       "Month                      267.304148\n",
       "Days                         5.148221\n",
       "hour                         4.070846\n",
       "Name: VIF, dtype: float64"
      ]
     },
     "execution_count": 13,
     "metadata": {},
     "output_type": "execute_result"
    }
   ],
   "source": [
    "from statsmodels.stats.outliers_influence import variance_inflation_factor\n",
    "vif = [variance_inflation_factor(X_train.values,j) for j in range(X_train.shape[1])]\n",
    "pd.Series(vif, index = X_train.columns, name='VIF')"
   ]
  },
  {
   "cell_type": "code",
   "execution_count": 14,
   "metadata": {},
   "outputs": [],
   "source": [
    "# from sklearn.preprocessing import StandardScaler\n",
    "# from sklearn.decomposition import PCA"
   ]
  },
  {
   "cell_type": "code",
   "execution_count": 15,
   "metadata": {},
   "outputs": [],
   "source": [
    "# scaler = StandardScaler()\n",
    "# x_num = scaler.fit(X_train)\n",
    "# x_num_scaled = x_num.transform(X_train)\n",
    "# x_scaled = pd.DataFrame(x_num_scaled, columns = X.columns)\n",
    "\n",
    "# x_test_scale = x_num.transform(X_test)"
   ]
  },
  {
   "cell_type": "code",
   "execution_count": 16,
   "metadata": {},
   "outputs": [],
   "source": [
    "# x_scaled"
   ]
  },
  {
   "cell_type": "code",
   "execution_count": 17,
   "metadata": {},
   "outputs": [],
   "source": [
    "# pca = PCA(n_components=2)\n",
    "# pca_transformer = pca.fit(x_scaled)\n",
    "# x_pca18 = pca_transformer.transform(x_scaled)\n",
    "\n",
    "# pca_test = pca_transformer.transform(x_test_scale)\n",
    "# # X1_train, X1_test, y1_train, y1_test = train_test_split(x_pca18,y,test_size=0.3,random_state = 101)"
   ]
  },
  {
   "cell_type": "code",
   "execution_count": null,
   "metadata": {},
   "outputs": [],
   "source": [
    "# from sklearn.linear_model import LinearRegression,Lasso,Ridge,LogisticRegression\n",
    "# from sklearn.tree import DecisionTreeRegressor\n",
    "# from sklearn.ensemble import RandomForestRegressor,GradientBoostingRegressor\n",
    "# from sklearn.metrics import mean_absolute_error,mean_squared_error,r2_score\n",
    "# from sklearn.model_selection import cross_val_score,train_test_split\n",
    "# from sklearn import metrics"
   ]
  },
  {
   "cell_type": "code",
   "execution_count": null,
   "metadata": {},
   "outputs": [],
   "source": [
    "\n",
    "# sns.distplot(df['Radiation'])"
   ]
  },
  {
   "cell_type": "code",
   "execution_count": null,
   "metadata": {},
   "outputs": [],
   "source": [
    "# sm_lm = RandomForestRegressor()\n",
    "# sm_lm.fit(x_pca18,y_train)\n",
    "# predictions_pca = sm_lm.predict(pca_test)\n",
    "# print('MAE:' , metrics.mean_absolute_error(y_test, predictions_pca))\n",
    "# print('MSE:', metrics.mean_squared_error(y_test, predictions_pca))\n",
    "# print('RMSE:', np.sqrt(metrics.mean_squared_error(y_test, predictions_pca)))\n",
    "# print('R2 Score', metrics.r2_score(y_test, predictions_pca))"
   ]
  },
  {
   "cell_type": "code",
   "execution_count": null,
   "metadata": {},
   "outputs": [],
   "source": [
    "# pca_test"
   ]
  },
  {
   "cell_type": "code",
   "execution_count": null,
   "metadata": {},
   "outputs": [],
   "source": [
    "# df.info()"
   ]
  },
  {
   "cell_type": "code",
   "execution_count": 22,
   "metadata": {},
   "outputs": [],
   "source": [
    "from sklearn.model_selection import GridSearchCV\n",
    "from sklearn.ensemble import GradientBoostingRegressor\n",
    "from sklearn.tree import DecisionTreeRegressor\n",
    "from sklearn.ensemble import RandomForestRegressor\n",
    "from xgboost import XGBRegressor\n",
    "from sklearn.ensemble import AdaBoostRegressor\n",
    "\n",
    "xgb = XGBRegressor()\n",
    "learningrate=[0.01,0.03,0.05,0.1] \n",
    "nestimators=[100,200,300]\n",
    "maxdepth=[4,5,6] \n",
    "minchildweight=[4,5] \n",
    "gamma=[i/10.0 for i in range(3,6)] \n",
    "subsample=[i/10.0 for i in range(6,10)] \n",
    "colsamplebytree=[i/10.0 for i in range(6,10)]\n",
    "\n",
    "xgbparamsgrid=dict(learningrate=learningrate,\n",
    "                    nestimators=nestimators,\n",
    "                    maxdepth=maxdepth,\n",
    "                    minchildweight=minchildweight,\n",
    "                    gamma=gamma,\n",
    "                    subsample=subsample,\n",
    "                    colsamplebytree=colsamplebytree)"
   ]
  },
  {
   "cell_type": "code",
   "execution_count": 23,
   "metadata": {},
   "outputs": [],
   "source": [
    "gridsearch=GridSearchCV(xgb,xgbparamsgrid,cv=5,n_jobs=-1,verbose=10) "
   ]
  },
  {
   "cell_type": "code",
   "execution_count": 25,
   "metadata": {},
   "outputs": [],
   "source": [
    "# gridsearch.fit(X_train,y_train)"
   ]
  },
  {
   "cell_type": "code",
   "execution_count": null,
   "metadata": {},
   "outputs": [],
   "source": []
  }
 ],
 "metadata": {
  "kernelspec": {
   "display_name": "Python 3",
   "language": "python",
   "name": "python3"
  }
 },
 "nbformat": 4,
 "nbformat_minor": 2
}
